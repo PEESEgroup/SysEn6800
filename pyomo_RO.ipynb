{
 "cells": [
  {
   "cell_type": "markdown",
   "metadata": {},
   "source": [
    "### Robust optimization with Pyomo and Romodel"
   ]
  },
  {
   "cell_type": "markdown",
   "metadata": {},
   "source": [
    "#### ROmodel installation\n",
    "\n",
    "Use following command in your terminal (eg. Mac terminal, Anaconda prompt)\n",
    "\n",
    "pip install git+https://github.com/cog-imperial/romodel.git"
   ]
  },
  {
   "cell_type": "markdown",
   "metadata": {},
   "source": [
    "#### Example problem\n",
    "\n",
    "$$ \\max_{}x_1 + x_2 $$\n",
    "$$ s.t. \\; (5+u_1)x_1 + (10+2u_2)x_2 \\leq 100 $$\n",
    "$$ x_1,x_2 \\geq 0 $$\n",
    "$$ u_1,u_2\\in U $$\n",
    "$$ U\\equiv \\left\\{ u_1,u_2| \\left| u_1\\right| \\leq 1, \\left| u_2\\right| \\leq 1  \\right\\} $$"
   ]
  },
  {
   "cell_type": "code",
   "execution_count": 50,
   "metadata": {},
   "outputs": [],
   "source": [
    "import pyomo.environ as pe\n",
    "import romodel as ro\n",
    "from romodel import uncset"
   ]
  },
  {
   "cell_type": "code",
   "execution_count": 57,
   "metadata": {},
   "outputs": [],
   "source": [
    "m = pe.ConcreteModel()\n",
    "\n",
    "m.x1 = pe.Var(within=pe.NonNegativeReals)\n",
    "m.x2 = pe.Var(within=pe.NonNegativeReals)\n",
    "\n",
    "m.obj = pe.Objective(expr=m.x1 + m.x2, sense=pe.maximize)"
   ]
  },
  {
   "cell_type": "code",
   "execution_count": 58,
   "metadata": {},
   "outputs": [],
   "source": [
    "m.uc_set = uncset.PolyhedralSet(mat=[[ 1,  0],\n",
    "                                    [ 0,  1],\n",
    "                                    [-1,  0],\n",
    "                                    [ 0, -1]],\n",
    "                                rhs=[1, 1, 1, 1])\n",
    "m.uc_set_1 = uncset.PolyhedralSet(mat=[[ 1],\n",
    "                                       [-1]],\n",
    "                                  rhs=[1, 1,])\n",
    "m.u1 = ro.UncParam( uncset=m.uc_set_1, nominal=[0.0,0.0])\n",
    "\n",
    "m.uc_set_2 = uncset.PolyhedralSet(mat=[[ 1],\n",
    "                                       [-1]],\n",
    "                                  rhs=[1, 1,])\n",
    "m.u2 = ro.UncParam( uncset=m.uc_set_2, nominal=[0.0,0.0])"
   ]
  },
  {
   "cell_type": "code",
   "execution_count": 59,
   "metadata": {},
   "outputs": [],
   "source": [
    "def con_rule(m):\n",
    "    return (5+m.u1)*m.x1 + (10+2*m.u2)*m.x2 <= 100\n",
    "m.con = pe.Constraint( rule=con_rule )"
   ]
  },
  {
   "cell_type": "code",
   "execution_count": 60,
   "metadata": {},
   "outputs": [
    {
     "name": "stdout",
     "output_type": "stream",
     "text": [
      "Adding 1 cutting plane generators.\n",
      "Using solver cbc\n",
      "\n",
      "Solving nominal problem.\n",
      "\n",
      "0/1 constraints robustly feasible. Add cuts and resolve.\n",
      "1/1 constraints robustly feasible. Add cuts and resolve.\n",
      "\n",
      "All constraints robustly feasible after 2 iterations.\n"
     ]
    },
    {
     "data": {
      "text/plain": [
       "{'Problem': [{'Name': 'unknown', 'Lower bound': -inf, 'Upper bound': inf, 'Number of objectives': None, 'Number of constraints': None, 'Number of variables': None, 'Number of binary variables': None, 'Number of integer variables': None, 'Number of continuous variables': None, 'Sense': 'unknown'}], 'Solver': [{'Name': None, 'Status': 'ok', 'Wallclock time': 1.3671867847442627, 'Termination condition': 'optimal'}], 'Solution': [OrderedDict([('number of solutions', 0), ('number of solutions displayed', 0)])]}"
      ]
     },
     "execution_count": 60,
     "metadata": {},
     "output_type": "execute_result"
    }
   ],
   "source": [
    "solver = pe.SolverFactory('romodel.cuts')\n",
    "solver.options.solver = \"cbc\"\n",
    "solver.solve(m)"
   ]
  },
  {
   "cell_type": "code",
   "execution_count": 62,
   "metadata": {},
   "outputs": [
    {
     "name": "stdout",
     "output_type": "stream",
     "text": [
      "Objective :  16.666667\n",
      "x1:  16.666667  x2:  0.0\n"
     ]
    }
   ],
   "source": [
    "print(\"Objective : \", m.obj())\n",
    "print(\"x1: \", m.x1(), \" x2: \", m.x2())"
   ]
  }
 ],
 "metadata": {
  "kernelspec": {
   "display_name": "Python 3.9.10 ('base')",
   "language": "python",
   "name": "python3"
  },
  "language_info": {
   "codemirror_mode": {
    "name": "ipython",
    "version": 3
   },
   "file_extension": ".py",
   "mimetype": "text/x-python",
   "name": "python",
   "nbconvert_exporter": "python",
   "pygments_lexer": "ipython3",
   "version": "3.9.10"
  },
  "orig_nbformat": 4,
  "vscode": {
   "interpreter": {
    "hash": "a6a1ff0fcab2d5e409c1625b6cd2dbe87687d6b581682481f853785f0ce9edc9"
   }
  }
 },
 "nbformat": 4,
 "nbformat_minor": 2
}
