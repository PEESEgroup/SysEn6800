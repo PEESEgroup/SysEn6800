{
 "cells": [
  {
   "cell_type": "code",
   "execution_count": 18,
   "metadata": {},
   "outputs": [],
   "source": [
    "from pyomo.environ import *"
   ]
  },
  {
   "cell_type": "code",
   "execution_count": 19,
   "metadata": {},
   "outputs": [],
   "source": [
    "a = {'Seattle': 350, 'San Diego': 600}\n",
    "d = {'New York': 325, 'Chicago': 300, 'Topeka': 275}\n",
    "c = {\n",
    "     ('Seattle', 'New York'): 2.5,  \n",
    "     ('Seattle', 'Chicago'): 1.7, \n",
    "     ('Seattle', 'Topeka'): 1.8,\n",
    "     ('San Diego', 'New York'): 2.5,  \n",
    "     ('San Diego', 'Chicago'): 1.8, \n",
    "     ('San Diego', 'Topeka'): 1.4\n",
    "    }"
   ]
  },
  {
   "cell_type": "code",
   "execution_count": null,
   "metadata": {},
   "outputs": [],
   "source": [
    "plants = list(a.keys())\n",
    "markets = list(d.keys())\n",
    "\n",
    "model = ConcreteModel()\n",
    "model.x = Var( plants, markets, within=NonNegativeReals )\n",
    "\n",
    "model.cost = Objective(\n",
    "    expr = sum( c[i,j]*model.x[i,j] for i in plants for j in markets ),\n",
    "    sense = minimize )\n",
    "\n",
    "model.supply = ConstraintList()\n",
    "for i in plants:\n",
    "    model.supply.add(\n",
    "        sum( model.x[i,j] for j in markets ) <= a[i] )\n",
    "    \n",
    "model.demand = ConstraintList()\n",
    "for j in markets:\n",
    "    model.demand.add(\n",
    "        sum( model.x[i,j] for i in plants ) >= d[j] )\n",
    "    \n",
    "#model.pprint()"
   ]
  },
  {
   "cell_type": "code",
   "execution_count": 20,
   "metadata": {
    "tags": []
   },
   "outputs": [
    {
     "output_type": "stream",
     "name": "stdout",
     "text": "Model unknown\n\n  Variables:\n    x : Size=6, Index=x_index\n        Key                       : Lower : Value : Upper : Fixed : Stale : Domain\n         ('San Diego', 'Chicago') :     0 :   0.0 :  None : False : False : NonNegativeReals\n        ('San Diego', 'New York') :     0 : 325.0 :  None : False : False : NonNegativeReals\n          ('San Diego', 'Topeka') :     0 : 275.0 :  None : False : False : NonNegativeReals\n           ('Seattle', 'Chicago') :     0 : 300.0 :  None : False : False : NonNegativeReals\n          ('Seattle', 'New York') :     0 :   0.0 :  None : False : False : NonNegativeReals\n            ('Seattle', 'Topeka') :     0 :   0.0 :  None : False : False : NonNegativeReals\n\n  Objectives:\n    cost : Size=1, Index=None, Active=True\n        Key  : Active : Value\n        None :   True : 1707.5\n\n  Constraints:\n    supply : Size=2\n        Key : Lower : Body  : Upper\n          1 :  None : 300.0 : 350.0\n          2 :  None : 600.0 : 600.0\n    demand : Size=3\n        Key : Lower : Body  : Upper\n          1 : 325.0 : 325.0 :  None\n          2 : 300.0 : 300.0 :  None\n          3 : 275.0 : 275.0 :  None\n"
    }
   ],
   "source": [
    "solver = SolverFactory('glpk')\n",
    "solver.solve(model)\n",
    "model.display()"
   ]
  },
  {
   "cell_type": "code",
   "execution_count": 21,
   "metadata": {
    "tags": []
   },
   "outputs": [
    {
     "output_type": "stream",
     "name": "stdout",
     "text": "Objective :  1707.5\n"
    }
   ],
   "source": [
    "print(\"Objective : \", model.cost())"
   ]
  }
 ],
 "metadata": {
  "kernelspec": {
   "display_name": "Python 3",
   "language": "python",
   "name": "python3"
  },
  "language_info": {
   "codemirror_mode": {
    "name": "ipython",
    "version": 3
   },
   "file_extension": ".py",
   "mimetype": "text/x-python",
   "name": "python",
   "nbconvert_exporter": "python",
   "pygments_lexer": "ipython3",
   "version": "3.7.9-final"
  }
 },
 "nbformat": 4,
 "nbformat_minor": 4
}