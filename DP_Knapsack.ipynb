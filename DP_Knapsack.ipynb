{
 "metadata": {
  "language_info": {
   "codemirror_mode": {
    "name": "ipython",
    "version": 3
   },
   "file_extension": ".py",
   "mimetype": "text/x-python",
   "name": "python",
   "nbconvert_exporter": "python",
   "pygments_lexer": "ipython3",
   "version": "3.6.10-final"
  },
  "orig_nbformat": 2,
  "kernelspec": {
   "name": "Python 3.6.10 64-bit ('courses': conda)",
   "display_name": "Python 3.6.10 64-bit ('courses': conda)",
   "metadata": {
    "interpreter": {
     "hash": "0ac8ce8964f72171bf31025bbc75d9ad43094c975f13a831f3d5e91a04b6cf92"
    }
   }
  }
 },
 "nbformat": 4,
 "nbformat_minor": 2,
 "cells": [
  {
   "source": [
    "* Knapsack problem\n",
    "\n",
    "Suppose we have a knapsack with a weight capacity of *C* = 50, and *N*\n",
    "= 3 types of items that can be packed into it. An item of type *n* weighs\n",
    "*w\\[n\\]* and generates a benefit of *b\\[n, j\\]* when packing *j* items of type *n*\n",
    "to the knapsack, but only *a\\[n\\]* units of this item are available. Suppose\n",
    "the data are as follows:"
   ],
   "cell_type": "markdown",
   "metadata": {}
  },
  {
   "cell_type": "code",
   "execution_count": 2,
   "metadata": {},
   "outputs": [],
   "source": [
    "import numpy as np"
   ]
  },
  {
   "cell_type": "code",
   "execution_count": 3,
   "metadata": {},
   "outputs": [],
   "source": [
    "# Items and capacity\n",
    "N = 3; C = 50\n",
    "\n",
    "# Number available -> a[n]\n",
    "a = [4, 4, 4]\n",
    "\n",
    "# Item weight -> w[n]\n",
    "w = [10, 9, 11]\n",
    "\n",
    "# Benefit -> b[n,j]\n",
    "b = [[0, 46, 70, 90, 105],\n",
    "     [0, 20, 45, 75, 110],\n",
    "     [0, 50, 75, 80, 100]]\n",
    "b = np.asarray(b)"
   ]
  },
  {
   "cell_type": "code",
   "execution_count": 4,
   "metadata": {},
   "outputs": [],
   "source": [
    "# Define number of stages and states\n",
    "stages = N+1\n",
    "states = C+1\n",
    "\n",
    "# Initialize a value table -> f[n,s]\n",
    "f = np.zeros((stages, states)) # Also includes boundary conditions f[N+1, s]=0\n",
    "\n",
    "# Store optimal decisions\n",
    "opt = np.zeros((stages, states))"
   ]
  },
  {
   "cell_type": "code",
   "execution_count": 5,
   "metadata": {},
   "outputs": [],
   "source": [
    "# Solve recurrence relation from bottom up\n",
    "\n",
    "stages = [n for n in range(N)]\n",
    "stages.reverse()  # Bottom-up approach\n",
    "\n",
    "for n in stages:\n",
    "    for s in range(states):\n",
    "\n",
    "       allowable_decisions = [ j for j in range(np.min( [a[n], s//w[n] ]) + 1) ]\n",
    "\n",
    "       possible_benefits = [ b[n,j] + f[n+1, s-j*w[n]] for j in allowable_decisions ]\n",
    "\n",
    "       f[n,s] = np.max(possible_benefits) # update table with optimal benefit value\n",
    "       opt[n,s] = np.argmax(possible_benefits) # Store optimal decisions"
   ]
  },
  {
   "cell_type": "code",
   "execution_count": 6,
   "metadata": {
    "tags": []
   },
   "outputs": [
    {
     "output_type": "stream",
     "name": "stdout",
     "text": [
      "171.0\n"
     ]
    }
   ],
   "source": [
    "# Find optimal value\n",
    "print(f[0, 50])"
   ]
  },
  {
   "cell_type": "code",
   "execution_count": 50,
   "metadata": {},
   "outputs": [
    {
     "output_type": "stream",
     "name": "stdout",
     "text": [
      "capacity(s) | f[1,s] | type 1 opt | f[2,s] | type 2 opt | f[3,s] | type 3 opt | f[4,s]\n\n50            171.0       1         160.0       4         100.0       4         0.0\n49            171.0       1         160.0       4         100.0       4         0.0\n48            171.0       1         160.0       4         100.0       4         0.0\n47            160.0       0         160.0       4         100.0       4         0.0\n46            156.0       1         125.0       3         100.0       4         0.0\n45            145.0       2         125.0       3         100.0       4         0.0\n44            145.0       2         125.0       3         100.0       4         0.0\n43            145.0       2         125.0       3         80.0       3         0.0\n42            145.0       2         125.0       3         80.0       3         0.0\n41            141.0       1         125.0       3         80.0       3         0.0\n40            141.0       1         125.0       3         80.0       3         0.0\n39            141.0       1         125.0       3         80.0       3         0.0\n38            125.0       0         125.0       3         80.0       3         0.0\n37            121.0       1         110.0       4         80.0       3         0.0\n36            121.0       1         110.0       4         80.0       3         0.0\n35            121.0       1         95.0       1         80.0       3         0.0\n34            121.0       1         95.0       1         80.0       3         0.0\n33            121.0       1         95.0       1         80.0       3         0.0\n32            121.0       1         95.0       1         75.0       2         0.0\n31            120.0       2         95.0       1         75.0       2         0.0\n30            116.0       1         95.0       2         75.0       2         0.0\n29            96.0       1         95.0       2         75.0       2         0.0\n28            96.0       1         75.0       0         75.0       2         0.0\n27            96.0       1         75.0       0         75.0       2         0.0\n26            96.0       1         75.0       0         75.0       2         0.0\n25            96.0       1         75.0       0         75.0       2         0.0\n24            96.0       1         75.0       0         75.0       2         0.0\n23            96.0       1         75.0       0         75.0       2         0.0\n22            96.0       1         75.0       0         75.0       2         0.0\n21            96.0       1         70.0       1         50.0       1         0.0\n20            70.0       0         70.0       1         50.0       1         0.0\n19            66.0       1         50.0       0         50.0       1         0.0\n18            50.0       0         50.0       0         50.0       1         0.0\n17            50.0       0         50.0       0         50.0       1         0.0\n16            50.0       0         50.0       0         50.0       1         0.0\n15            50.0       0         50.0       0         50.0       1         0.0\n14            50.0       0         50.0       0         50.0       1         0.0\n13            50.0       0         50.0       0         50.0       1         0.0\n12            50.0       0         50.0       0         50.0       1         0.0\n11            50.0       0         50.0       0         50.0       1         0.0\n10            46.0       1         20.0       1         0.0       0         0.0\n9            20.0       0         20.0       1         0.0       0         0.0\n8            0.0       0         0.0       0         0.0       0         0.0\n7            0.0       0         0.0       0         0.0       0         0.0\n6            0.0       0         0.0       0         0.0       0         0.0\n5            0.0       0         0.0       0         0.0       0         0.0\n4            0.0       0         0.0       0         0.0       0         0.0\n3            0.0       0         0.0       0         0.0       0         0.0\n2            0.0       0         0.0       0         0.0       0         0.0\n1            0.0       0         0.0       0         0.0       0         0.0\n0            0.0       0         0.0       0         0.0       0         0.0\n"
     ]
    }
   ],
   "source": [
    "# Optimal benefits and decisions\n",
    "print(\"capacity(s)\", \"| f[1,s]\", \"| type 1 opt\", \"| f[2,s]\", \"| type 2 opt\", \"| f[3,s]\", \"| type 3 opt\", \"| f[4,s]\")\n",
    "print(\"\")\n",
    "for s in range(states):\n",
    "    print(C-s, end=\"            \")\n",
    "    for n in range(N+1):\n",
    "        if n==N:\n",
    "            print(f[n,C-s], end=\"\")\n",
    "        else:\n",
    "            print(f[n,C-s], \"     \", int(opt[n,C-s]), end=\"         \")\n",
    "    print(\"\")"
   ]
  }
 ]
}