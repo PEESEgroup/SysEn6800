{
 "cells": [
  {
   "cell_type": "code",
   "execution_count": 1,
   "metadata": {},
   "outputs": [],
   "source": [
    "from pyomo.environ import *"
   ]
  },
  {
   "cell_type": "code",
   "execution_count": 2,
   "metadata": {},
   "outputs": [
    {
     "output_type": "execute_result",
     "data": {
      "text/plain": [
       "<pyomo.core.base.constraint._GeneralConstraintData at 0x149e4fe3a68>"
      ]
     },
     "metadata": {},
     "execution_count": 2
    }
   ],
   "source": [
    "model = ConcreteModel()\n",
    "model.x1 = Var(bounds=(0, 4), within=Reals)\n",
    "model.x2 = Var(bounds=(0, 4), within=Reals)\n",
    "model.y1 = Var(initialize= 1.0, within=Binary)\n",
    "model.y2 = Var(initialize= 1.0, within=Binary)\n",
    "model.y3 = Var(initialize= 1.0, within=Binary)\n",
    "model.c = ConstraintList()\n",
    "model.c.add((model.x1 - 2)**2 - model.x2 <= 0)\n",
    "model.c.add(model.x1 - 2*model.y1 >= 0)\n",
    "model.c.add(model.x1 - model.x2 - 4*(1 - model.y2) <= 0)\n",
    "model.c.add(model.x1 - (1 - model.y1) >= 0)\n",
    "model.c.add(model.x2 - model.y2 >= 0)\n",
    "model.c.add(model.x1 + model.x2 >= 3*model.y3)\n",
    "model.c.add(model.y1 + model.y2 + model.y3 >= 1)"
   ]
  },
  {
   "cell_type": "code",
   "execution_count": 3,
   "metadata": {},
   "outputs": [
    {
     "output_type": "stream",
     "name": "stdout",
     "text": [
      "1 Set Declarations\n    c_index : Size=1, Index=None, Ordered=Insertion\n        Key  : Dimen : Domain : Size : Members\n        None :     1 :    Any :    7 : {1, 2, 3, 4, 5, 6, 7}\n\n5 Var Declarations\n    x1 : Size=1, Index=None\n        Key  : Lower : Value : Upper : Fixed : Stale : Domain\n        None :     0 :  None :     4 : False :  True :  Reals\n    x2 : Size=1, Index=None\n        Key  : Lower : Value : Upper : Fixed : Stale : Domain\n        None :     0 :  None :     4 : False :  True :  Reals\n    y1 : Size=1, Index=None\n        Key  : Lower : Value : Upper : Fixed : Stale : Domain\n        None :     0 :   1.0 :     1 : False : False : Binary\n    y2 : Size=1, Index=None\n        Key  : Lower : Value : Upper : Fixed : Stale : Domain\n        None :     0 :   1.0 :     1 : False : False : Binary\n    y3 : Size=1, Index=None\n        Key  : Lower : Value : Upper : Fixed : Stale : Domain\n        None :     0 :   1.0 :     1 : False : False : Binary\n\n1 Objective Declarations\n    obj : Size=1, Index=None, Active=True\n        Key  : Active : Sense    : Expression\n        None :   True : minimize : y1 + 1.5*y2 + 0.5*y3 + x1**2 + x2**2\n\n1 Constraint Declarations\n    c : Size=7, Index=c_index, Active=True\n        Key : Lower : Body                 : Upper : Active\n          1 :  -Inf :     (x1 - 2)**2 - x2 :   0.0 :   True\n          2 :   0.0 :            x1 - 2*y1 :  +Inf :   True\n          3 :  -Inf : x1 - x2 - 4*(1 - y2) :   0.0 :   True\n          4 :   0.0 :        x1 - (1 - y1) :  +Inf :   True\n          5 :   0.0 :              x2 - y2 :  +Inf :   True\n          6 :  -Inf :     3*y3 - (x1 + x2) :   0.0 :   True\n          7 :   1.0 :         y1 + y2 + y3 :  +Inf :   True\n\n8 Declarations: x1 x2 y1 y2 y3 c_index c obj\n"
     ]
    }
   ],
   "source": [
    "def objrule(model):\n",
    "    return model.y1 + 1.5*model.y2 + 0.5*model.y3 + model.x1**2 + model.x2**2\n",
    "model.obj = Objective(rule=objrule, sense=minimize)\n",
    "model.pprint()"
   ]
  },
  {
   "cell_type": "code",
   "execution_count": 4,
   "metadata": {},
   "outputs": [
    {
     "output_type": "execute_result",
     "data": {
      "text/plain": [
       "{'Problem': [{'Lower bound': -inf, 'Upper bound': inf, 'Number of objectives': 1, 'Number of constraints': 0, 'Number of variables': 5, 'Sense': 'unknown'}], 'Solver': [{'Status': 'ok', 'Message': 'bonmin\\\\x3a Optimal', 'Termination condition': 'optimal', 'Id': 3, 'Error rc': 0, 'Time': 3.975531816482544}], 'Solution': [OrderedDict([('number of solutions', 0), ('number of solutions displayed', 0)])]}"
      ]
     },
     "metadata": {},
     "execution_count": 4
    }
   ],
   "source": [
    "# Bonmin is a MINLP solver that does not provide guarantee of global optimum\n",
    "solver = SolverFactory('bonmin')\n",
    "solver.solve(model)"
   ]
  },
  {
   "cell_type": "code",
   "execution_count": 5,
   "metadata": {
    "tags": []
   },
   "outputs": [
    {
     "output_type": "stream",
     "name": "stdout",
     "text": [
      "x1 = 1.0000000003169225\nx2 = 0.99999999318472\ny1 = 0.0\ny2 = 1.0\ny3 = 0.0\nObjective :  3.499999987003285\n"
     ]
    }
   ],
   "source": [
    "print(\"x1 =\", model.x1())\n",
    "print(\"x2 =\", model.x2())\n",
    "print(\"y1 =\", model.y1())\n",
    "print(\"y2 =\", model.y2())\n",
    "print(\"y3 =\", model.y3())\n",
    "\n",
    "print(\"Objective : \", model.obj())"
   ]
  },
  {
   "cell_type": "code",
   "execution_count": 6,
   "metadata": {},
   "outputs": [
    {
     "output_type": "execute_result",
     "data": {
      "text/plain": [
       "{'Problem': [{'Lower bound': -inf, 'Upper bound': inf, 'Number of objectives': 1, 'Number of constraints': 0, 'Number of variables': 5, 'Sense': 'unknown'}], 'Solver': [{'Status': 'ok', 'Message': 'couenne\\\\x3a Optimal', 'Termination condition': 'optimal', 'Id': 3, 'Error rc': 0, 'Time': 4.078471899032593}], 'Solution': [OrderedDict([('number of solutions', 0), ('number of solutions displayed', 0)])]}"
      ]
     },
     "metadata": {},
     "execution_count": 6
    }
   ],
   "source": [
    "# Couenne is a global MINLP solver\n",
    "\n",
    "solver = SolverFactory('couenne')\n",
    "solver.solve(model)"
   ]
  },
  {
   "cell_type": "code",
   "execution_count": 7,
   "metadata": {
    "tags": []
   },
   "outputs": [
    {
     "output_type": "stream",
     "name": "stdout",
     "text": [
      "x1 = 1.0000000000000004\nx2 = 1.0\ny1 = 0.0\ny2 = 1.0\ny3 = 0.0\nObjective :  3.500000000000001\n"
     ]
    }
   ],
   "source": [
    "print(\"x1 =\", model.x1())\n",
    "print(\"x2 =\", model.x2())\n",
    "print(\"y1 =\", model.y1())\n",
    "print(\"y2 =\", model.y2())\n",
    "print(\"y3 =\", model.y3())\n",
    "\n",
    "print(\"Objective : \", model.obj())"
   ]
  }
 ],
 "metadata": {
  "kernelspec": {
   "display_name": "Python 3",
   "language": "python",
   "name": "python3"
  },
  "language_info": {
   "codemirror_mode": {
    "name": "ipython",
    "version": 3
   },
   "file_extension": ".py",
   "mimetype": "text/x-python",
   "name": "python",
   "nbconvert_exporter": "python",
   "pygments_lexer": "ipython3",
   "version": "3.7.8-final"
  }
 },
 "nbformat": 4,
 "nbformat_minor": 4
}