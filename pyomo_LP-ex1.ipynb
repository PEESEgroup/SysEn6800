{
 "cells": [
  {
   "cell_type": "code",
   "execution_count": 1,
   "source": [
    "from pyomo.environ import *"
   ],
   "outputs": [],
   "metadata": {}
  },
  {
   "cell_type": "code",
   "execution_count": 2,
   "source": [
    "model = ConcreteModel()\r\n",
    "model.x1 = Var(within=NonNegativeReals)\r\n",
    "model.x2 = Var(bounds=(0, 10), within=Reals)\r\n",
    "model.x3 = Var(within=Reals)"
   ],
   "outputs": [],
   "metadata": {}
  },
  {
   "cell_type": "code",
   "execution_count": 3,
   "source": [
    "model.c = ConstraintList()\r\n",
    "model.c.add(8*model.x1 + 6*model.x2 + model.x3 <= 48)\r\n",
    "model.c.add(4*model.x1 + 2*model.x2 + 1.5*model.x3 == 20)\r\n",
    "model.c.add(2*model.x1 + 1.5*model.x2 + 0.5*model.x3 >= 8)"
   ],
   "outputs": [
    {
     "output_type": "execute_result",
     "data": {
      "text/plain": [
       "<pyomo.core.base.constraint._GeneralConstraintData at 0x1402228a348>"
      ]
     },
     "metadata": {},
     "execution_count": 3
    }
   ],
   "metadata": {}
  },
  {
   "cell_type": "code",
   "execution_count": 4,
   "source": [
    "def objrule(model):\r\n",
    "    return 60 * model.x1 + 30 * model.x2 + 20 * model.x3"
   ],
   "outputs": [],
   "metadata": {}
  },
  {
   "cell_type": "code",
   "execution_count": 5,
   "source": [
    "model.obj = Objective(rule=objrule, sense=maximize)"
   ],
   "outputs": [],
   "metadata": {}
  },
  {
   "cell_type": "code",
   "execution_count": 6,
   "source": [
    "solver = SolverFactory('glpk')\r\n",
    "solver.solve(model)"
   ],
   "outputs": [
    {
     "output_type": "execute_result",
     "data": {
      "text/plain": [
       "{'Problem': [{'Name': 'unknown', 'Lower bound': 310.0, 'Upper bound': 310.0, 'Number of objectives': 1, 'Number of constraints': 4, 'Number of variables': 4, 'Number of nonzeros': 10, 'Sense': 'maximize'}], 'Solver': [{'Status': 'ok', 'Termination condition': 'optimal', 'Statistics': {'Branch and bound': {'Number of bounded subproblems': 0, 'Number of created subproblems': 0}}, 'Error rc': 0, 'Time': 0.02589726448059082}], 'Solution': [OrderedDict([('number of solutions', 0), ('number of solutions displayed', 0)])]}"
      ]
     },
     "metadata": {},
     "execution_count": 6
    }
   ],
   "metadata": {}
  },
  {
   "cell_type": "code",
   "execution_count": 7,
   "source": [
    "print(\"x1 =\", model.x1())\r\n",
    "print(\"x2 =\", model.x2())\r\n",
    "print(\"x3 =\", model.x3())\r\n",
    "\r\n",
    "print(\"Objective : \", model.obj())"
   ],
   "outputs": [
    {
     "output_type": "stream",
     "name": "stdout",
     "text": [
      "x1 = 6.5\n",
      "x2 = 0.0\n",
      "x3 = -4.0\n",
      "Objective :  310.0\n"
     ]
    }
   ],
   "metadata": {}
  },
  {
   "cell_type": "code",
   "execution_count": null,
   "source": [],
   "outputs": [],
   "metadata": {}
  }
 ],
 "metadata": {
  "kernelspec": {
   "name": "python3",
   "display_name": "Python 3.7.9 64-bit ('base': conda)"
  },
  "language_info": {
   "codemirror_mode": {
    "name": "ipython",
    "version": 3
   },
   "file_extension": ".py",
   "mimetype": "text/x-python",
   "name": "python",
   "nbconvert_exporter": "python",
   "pygments_lexer": "ipython3",
   "version": "3.7.9"
  },
  "interpreter": {
   "hash": "2ba39d8018cc508ff2b9197c309d492bc328d4f3f426f5b6af3c02e8d056f9c6"
  }
 },
 "nbformat": 4,
 "nbformat_minor": 4
}