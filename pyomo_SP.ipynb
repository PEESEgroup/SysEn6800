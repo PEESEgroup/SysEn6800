{
 "cells": [
  {
   "cell_type": "markdown",
   "metadata": {},
   "source": [
    "#### Stochastic programming with PySp"
   ]
  },
  {
   "cell_type": "markdown",
   "metadata": {},
   "source": [
    "#### Installation\n",
    "\n",
    "Step 1. Download source from https://github.com/Pyomo/pysp\n",
    "\n",
    "Step 2. Browse to the dowloaded folder from your terminal (eg. Mac terminal, Windows CMD, Anaconda prompt)\n",
    "\n",
    "Step 3. Run the command \"python setup.py install\""
   ]
  },
  {
   "cell_type": "markdown",
   "metadata": {},
   "source": [
    "#### Example : Newsvendor problem with 3 scenarios"
   ]
  },
  {
   "cell_type": "markdown",
   "metadata": {},
   "source": [
    "* Solution with Pyomo and Indexing"
   ]
  },
  {
   "cell_type": "code",
   "execution_count": 6,
   "metadata": {},
   "outputs": [
    {
     "name": "stdout",
     "output_type": "stream",
     "text": [
      "Objective :  25.5\n"
     ]
    }
   ],
   "source": [
    "from pyomo.environ import *\n",
    "\n",
    "# Initialize problem data\n",
    "model = ConcreteModel()\n",
    "model.c = Param( initialize=0.6 )\n",
    "model.r = Param( initialize=1.5 )\n",
    "\n",
    "# define scenario dependent parameters\n",
    "model.scenarios = range(3)\n",
    "model.d = Param(model.scenarios, initialize=[15, 45, 90])\n",
    "model.probability = Param(model.scenarios, default=1/3)\n",
    "\n",
    "# define variables\n",
    "model.x = Var(within=NonNegativeReals)\n",
    "model.y = Var(model.scenarios, within=NonNegativeReals)\n",
    "\n",
    "# objective\n",
    "def obj_rule(model):\n",
    "    return -model.c*model.x + sum(model.probability[s]*model.r*model.y[s] for s in model.scenarios)\n",
    "model.obj = Objective(rule=obj_rule, sense=maximize)\n",
    "\n",
    "# Constraints\n",
    "def con1(model, s):\n",
    "    return model.y[s] <= model.x\n",
    "model.constr1 = Constraint(model.scenarios, rule=con1)\n",
    "\n",
    "def con2(model, s):\n",
    "    return model.y[s] <= model.d[s]\n",
    "model.constr2 = Constraint(model.scenarios, rule=con2)\n",
    "\n",
    "solver = SolverFactory(\"cbc\")\n",
    "solver.solve(model)\n",
    "\n",
    "print(\"Objective : \", model.obj())"
   ]
  },
  {
   "cell_type": "markdown",
   "metadata": {},
   "source": [
    "* Solution with Pyomo and PySP"
   ]
  },
  {
   "cell_type": "code",
   "execution_count": 1,
   "metadata": {},
   "outputs": [],
   "source": [
    "from pyomo.environ import *\n",
    "\n",
    "# Initialize problem data\n",
    "model = AbstractModel()\n",
    "model.c = Param()\n",
    "model.r = Param()\n",
    "model.scens = Set()\n",
    "model.d = Param(model.scens)\n",
    "\n",
    "# Setup all stage problems\n",
    "model.x = Var(within=NonNegativeReals)\n",
    "model.y = Var(within=NonNegativeReals)\n",
    "\n",
    "model.FirstStageCost = Var()\n",
    "model.SecondStageCost = Var()\n",
    "def obj_rule(model):\n",
    "    return -model.c*model.x + model.r*model.y\n",
    "model.obj = Objective(rule=obj_rule, sense=maximize)\n",
    "\n",
    "\n",
    "model.constr1 = Constraint(expr=model.y <= model.x)\n",
    "\n",
    "def cons2(model, s):\n",
    "    return model.y <= model.d[s]\n",
    "model.constr2 = Constraint(model.scens, rule=cons2)"
   ]
  },
  {
   "cell_type": "markdown",
   "metadata": {},
   "source": [
    "##### Create a scenario data file named \"ScenarioStructure.dat\""
   ]
  },
  {
   "cell_type": "code",
   "execution_count": null,
   "metadata": {},
   "outputs": [],
   "source": [
    "\"\"\"\n",
    "set Nodes := RootNode\n",
    "             BelowAverageNode\n",
    "             AverageNode\n",
    "             AboveAverageNode;\n",
    "\n",
    "param NodeStage := RootNode FirstStage\n",
    "                   BelowAverageNode SecondStage\n",
    "                   AverageNode SecondStage\n",
    "                   AboveAverageNode SecondStage;\n",
    "\n",
    "set Children[RootNode] := BelowAverageNode\n",
    "                          AverageNode\n",
    "                          AboveAverageNode;\n",
    "\n",
    "param ConditionalProbability := RootNode 1.0\n",
    "                                BelowAverageNode 0.333\n",
    "                                AverageNode 0.333\n",
    "                                AboveAverageNode 0.333;\n",
    "\n",
    "set Scenarios := BelowAverageScenario\n",
    "                 AverageScenario\n",
    "                 AboveAverageScenario;\n",
    "\n",
    "param ScenarioLeafNode :=\n",
    "        BelowAverageScenario BelowAverageNode\n",
    "        AverageScenario AverageNode\n",
    "        AboveAverageScenario AboveAverageNode;\n",
    "\n",
    "set StageVariables[FirstStage] := x;\n",
    "set StageVariables[SecondStage] := y;\n",
    "\n",
    "param c := 0.6;\n",
    "param r := 1.5;\n",
    "set scens := BELOW AVG ABOVE;\n",
    "param d := BELOW 15 AVG 45 ABOVE 90;\n",
    "\"\"\""
   ]
  },
  {
   "cell_type": "markdown",
   "metadata": {},
   "source": [
    "Run the following command through the terminal \n",
    "\n",
    "runef -m models -i nodedata --solver=cbc --solve"
   ]
  }
 ],
 "metadata": {
  "kernelspec": {
   "display_name": "Python 3.9.1 ('base')",
   "language": "python",
   "name": "python3"
  },
  "language_info": {
   "codemirror_mode": {
    "name": "ipython",
    "version": 3
   },
   "file_extension": ".py",
   "mimetype": "text/x-python",
   "name": "python",
   "nbconvert_exporter": "python",
   "pygments_lexer": "ipython3",
   "version": "3.9.1"
  },
  "orig_nbformat": 4,
  "vscode": {
   "interpreter": {
    "hash": "983911d35950009c626e29e2711573e747c4b20fcb410734124273929769dfd0"
   }
  }
 },
 "nbformat": 4,
 "nbformat_minor": 2
}
